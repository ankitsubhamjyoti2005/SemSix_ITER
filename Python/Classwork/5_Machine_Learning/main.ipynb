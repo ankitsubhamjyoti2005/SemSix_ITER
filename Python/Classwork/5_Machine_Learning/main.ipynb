{
 "cells": [
  {
   "cell_type": "markdown",
   "id": "296d3fe5",
   "metadata": {},
   "source": [
    "# Machine Learning: Classification, Regression and Clustering \n",
    "### github : https://github.com/pdeitel/IntroToPython/tree/master/examples/ch15 \n",
    "### book   : http://localhost:8888/files/2241016309/Python%202/Python%20Book.pdf \n",
    "            (only works in lab comp)"
   ]
  },
  {
   "cell_type": "code",
   "execution_count": 1,
   "id": "7cc70802",
   "metadata": {},
   "outputs": [
    {
     "name": "stdout",
     "output_type": "stream",
     "text": [
      "Defaulting to user installation because normal site-packages is not writeable\n",
      "Requirement already satisfied: scikit-learn in /home/iter/anaconda3/lib/python3.11/site-packages (1.3.0)\n",
      "Requirement already satisfied: numpy>=1.17.3 in /home/iter/anaconda3/lib/python3.11/site-packages (from scikit-learn) (1.24.3)\n",
      "Requirement already satisfied: scipy>=1.5.0 in /home/iter/anaconda3/lib/python3.11/site-packages (from scikit-learn) (1.10.1)\n",
      "Requirement already satisfied: joblib>=1.1.1 in /home/iter/anaconda3/lib/python3.11/site-packages (from scikit-learn) (1.2.0)\n",
      "Requirement already satisfied: threadpoolctl>=2.0.0 in /home/iter/anaconda3/lib/python3.11/site-packages (from scikit-learn) (2.2.0)\n"
     ]
    }
   ],
   "source": [
    "!pip install scikit-learn"
   ]
  },
  {
   "cell_type": "markdown",
   "id": "c124fa3b",
   "metadata": {},
   "source": [
    "### 15.2.2 Loading the Dataset\n",
    "The **load_digits** function from the **sklearn.datasets module** returns a scikit-learn\n",
    "**Bunch** object containing the digits data and information about the Digits dataset (called\n",
    "**metadata**):"
   ]
  },
  {
   "cell_type": "code",
   "execution_count": 2,
   "id": "101a200e",
   "metadata": {},
   "outputs": [],
   "source": [
    "from sklearn.datasets import load_digits"
   ]
  },
  {
   "cell_type": "code",
   "execution_count": 3,
   "id": "f9896997",
   "metadata": {},
   "outputs": [],
   "source": [
    "digits = load_digits()"
   ]
  },
  {
   "cell_type": "markdown",
   "id": "d7c17f79",
   "metadata": {},
   "source": [
    "**Bunch** is a subclass of dict that has additional attributes for interacting with the dataset.\n",
    "  \n",
    "#### Displaying the Description  \n",
    "  \n",
    "The Digits dataset bundled with scikit-learn is a subset of the UCI (University of California Irvine) ML hand-written digits dataset at:\n",
    "> http://archive.ics.uci.edu/ml/datasets/Optical+Recognition+of+Handwritten+Digits  \n",
    "  \n",
    "The original UCI dataset contains 5620 samples—3823 for training and 1797 for testing. The version of the dataset bundled with scikit-learn contains only the 1797 testing samples. A Bunch’s **DESCR attribute** contains a description of the dataset. According to the Digits dataset’s description4, each sample has 64 features (as specified by Number of Attributes) that represent an 8-by-8 image with pixel values in the range 0–16 (specified by Attribute Information). This dataset has no missing values (as specified by Missing Attribute Values). The 64 features may seem like a lot, but real-world datasets can sometimes have hundreds, thousands or even millions of features. "
   ]
  },
  {
   "cell_type": "code",
   "execution_count": 4,
   "id": "a7d8ffbb",
   "metadata": {},
   "outputs": [
    {
     "name": "stdout",
     "output_type": "stream",
     "text": [
      ".. _digits_dataset:\n",
      "\n",
      "Optical recognition of handwritten digits dataset\n",
      "--------------------------------------------------\n",
      "\n",
      "**Data Set Characteristics:**\n",
      "\n",
      "    :Number of Instances: 1797\n",
      "    :Number of Attributes: 64\n",
      "    :Attribute Information: 8x8 image of integer pixels in the range 0..16.\n",
      "    :Missing Attribute Values: None\n",
      "    :Creator: E. Alpaydin (alpaydin '@' boun.edu.tr)\n",
      "    :Date: July; 1998\n",
      "\n",
      "This is a copy of the test set of the UCI ML hand-written digits datasets\n",
      "https://archive.ics.uci.edu/ml/datasets/Optical+Recognition+of+Handwritten+Digits\n",
      "\n",
      "The data set contains images of hand-written digits: 10 classes where\n",
      "each class refers to a digit.\n",
      "\n",
      "Preprocessing programs made available by NIST were used to extract\n",
      "normalized bitmaps of handwritten digits from a preprinted form. From a\n",
      "total of 43 people, 30 contributed to the training set and different 13\n",
      "to the test set. 32x32 bitmaps are divided into nonoverlapping blocks of\n",
      "4x4 and the number of on pixels are counted in each block. This generates\n",
      "an input matrix of 8x8 where each element is an integer in the range\n",
      "0..16. This reduces dimensionality and gives invariance to small\n",
      "distortions.\n",
      "\n",
      "For info on NIST preprocessing routines, see M. D. Garris, J. L. Blue, G.\n",
      "T. Candela, D. L. Dimmick, J. Geist, P. J. Grother, S. A. Janet, and C.\n",
      "L. Wilson, NIST Form-Based Handprint Recognition System, NISTIR 5469,\n",
      "1994.\n",
      "\n",
      ".. topic:: References\n",
      "\n",
      "  - C. Kaynak (1995) Methods of Combining Multiple Classifiers and Their\n",
      "    Applications to Handwritten Digit Recognition, MSc Thesis, Institute of\n",
      "    Graduate Studies in Science and Engineering, Bogazici University.\n",
      "  - E. Alpaydin, C. Kaynak (1998) Cascading Classifiers, Kybernetika.\n",
      "  - Ken Tang and Ponnuthurai N. Suganthan and Xi Yao and A. Kai Qin.\n",
      "    Linear dimensionalityreduction using relevance weighted LDA. School of\n",
      "    Electrical and Electronic Engineering Nanyang Technological University.\n",
      "    2005.\n",
      "  - Claudio Gentile. A New Approximate Maximal Margin Classification\n",
      "    Algorithm. NIPS. 2000.\n",
      "\n"
     ]
    }
   ],
   "source": [
    "print(digits.DESCR)    # DESCR bole to description"
   ]
  },
  {
   "cell_type": "markdown",
   "id": "1022b0fc",
   "metadata": {},
   "source": [
    "#### Checking the Sample and Target Sizes  \n",
    "The Bunch object’s **data** and **target attributes** are NumPy arrays:  \n",
    "* The data array contains the 1797 samples (the digit images), each with 64 features, having values in the range 0–16, representing pixel intensities. With Matplotlib, we’ll visualize these intensities in grayscale shades from white (0) to black (16):  \n",
    "* The target array contains the images’ labels—that is, the classes indicating which digit each image represents. The array is called target because, when you make predictions, you’re aiming to “hit the target” values. To see labels of samples throughout the dataset, let’s display the target values of every 100th sample:"
   ]
  },
  {
   "cell_type": "code",
   "execution_count": 5,
   "id": "407b53db",
   "metadata": {},
   "outputs": [
    {
     "data": {
      "text/plain": [
       "array([0, 4, 1, 7, 4, 8, 2, 2, 4, 4, 1, 9, 7, 3, 2, 1, 2, 5])"
      ]
     },
     "execution_count": 5,
     "metadata": {},
     "output_type": "execute_result"
    }
   ],
   "source": [
    "digits.target[::100]"
   ]
  },
  {
   "cell_type": "markdown",
   "id": "53e582a1",
   "metadata": {},
   "source": [
    "We can confirm the number of samples and features (per sample) by looking at the\n",
    "data array’s shape attribute, which shows that there are 1797 rows (samples) and 64 columns (features):"
   ]
  },
  {
   "cell_type": "code",
   "execution_count": 6,
   "id": "d7f82de6",
   "metadata": {},
   "outputs": [
    {
     "data": {
      "text/plain": [
       "(1797, 64)"
      ]
     },
     "execution_count": 6,
     "metadata": {},
     "output_type": "execute_result"
    }
   ],
   "source": [
    " digits.data.shape"
   ]
  },
  {
   "cell_type": "markdown",
   "id": "d713e3af",
   "metadata": {},
   "source": [
    "You can confirm that the number of target values matches the number of samples by looking at the target array’s shape:"
   ]
  },
  {
   "cell_type": "code",
   "execution_count": 7,
   "id": "fc52f258",
   "metadata": {},
   "outputs": [
    {
     "data": {
      "text/plain": [
       "(1797,)"
      ]
     },
     "execution_count": 7,
     "metadata": {},
     "output_type": "execute_result"
    }
   ],
   "source": [
    "digits.target.shape"
   ]
  },
  {
   "cell_type": "markdown",
   "id": "9a039d09",
   "metadata": {},
   "source": [
    "#### A Sample Digit Image\n",
    "Each image is two-dimensional—it has a width and a height in pixels. The Bunch object\n",
    "returned by load_digits contains an images attribute—an array in which each element\n",
    "is a two-dimensional 8-by-8 array representing a digit image’s pixel intensities. Though\n",
    "the original dataset represents each pixel as an integer value from 0–16, scikit-learn stores\n",
    "these values as floating-point values (NumPy type float64). For example, here’s the twodimensional array representing the sample image at index 13:"
   ]
  },
  {
   "cell_type": "code",
   "execution_count": 8,
   "id": "0598b478",
   "metadata": {},
   "outputs": [
    {
     "data": {
      "text/plain": [
       "array([[ 0.,  2.,  9., 15., 14.,  9.,  3.,  0.],\n",
       "       [ 0.,  4., 13.,  8.,  9., 16.,  8.,  0.],\n",
       "       [ 0.,  0.,  0.,  6., 14., 15.,  3.,  0.],\n",
       "       [ 0.,  0.,  0., 11., 14.,  2.,  0.,  0.],\n",
       "       [ 0.,  0.,  0.,  2., 15., 11.,  0.,  0.],\n",
       "       [ 0.,  0.,  0.,  0.,  2., 15.,  4.,  0.],\n",
       "       [ 0.,  1.,  5.,  6., 13., 16.,  6.,  0.],\n",
       "       [ 0.,  2., 12., 12., 13., 11.,  0.,  0.]])"
      ]
     },
     "execution_count": 8,
     "metadata": {},
     "output_type": "execute_result"
    }
   ],
   "source": [
    "digits.images[13]"
   ]
  },
  {
   "cell_type": "markdown",
   "id": "61842fd0",
   "metadata": {},
   "source": [
    "#### Preparing the Data for Use with Scikit-Learn\n",
    "Scikit-learn’s machine-learning algorithms require samples to be stored in a two-dimensional array of floating-point values (or two-dimensional array-like collection, such as a list\n",
    "of lists or a pandas DataFrame):  \n",
    "* Each row represents one sample.  \n",
    "* Each column in a given row represents one feature for that sample.  \n",
    "To represent every sample as one row, multi-dimensional data like the two-dimensional\n",
    "image array shown in previous shell must be flattened into a one-dimensional array.  \n",
    "  \n",
    "The load_digits function returns the preprocessed data ready\n",
    "for machine learning. The Digits dataset is numerical, so load_digits simply flattens each\n",
    "image’s two-dimensional array into a one-dimensional array. For example, the 8-by-8\n",
    "array digits.images[13] shown in previous shell corresponds to the 1-by-64 array digits.data[13] shown below: "
   ]
  },
  {
   "cell_type": "code",
   "execution_count": 9,
   "id": "19617aec",
   "metadata": {},
   "outputs": [
    {
     "data": {
      "text/plain": [
       "array([ 0.,  2.,  9., 15., 14.,  9.,  3.,  0.,  0.,  4., 13.,  8.,  9.,\n",
       "       16.,  8.,  0.,  0.,  0.,  0.,  6., 14., 15.,  3.,  0.,  0.,  0.,\n",
       "        0., 11., 14.,  2.,  0.,  0.,  0.,  0.,  0.,  2., 15., 11.,  0.,\n",
       "        0.,  0.,  0.,  0.,  0.,  2., 15.,  4.,  0.,  0.,  1.,  5.,  6.,\n",
       "       13., 16.,  6.,  0.,  0.,  2., 12., 12., 13., 11.,  0.,  0.])"
      ]
     },
     "execution_count": 9,
     "metadata": {},
     "output_type": "execute_result"
    }
   ],
   "source": [
    "digits.data[13]"
   ]
  },
  {
   "cell_type": "markdown",
   "id": "50d32e41",
   "metadata": {},
   "source": [
    "### 15.2.3 Visualizing the Data  \n",
    "  \n",
    "You should always familiarize yourself with your data. This process is called **data exploration**. For the digit images, you can get a sense of what they look like by displaying them with the Matplotlib implot function.  \n",
    "  \n",
    "#### Creating the Diagram:"
   ]
  },
  {
   "cell_type": "code",
   "execution_count": 10,
   "id": "aad282a2",
   "metadata": {},
   "outputs": [],
   "source": [
    " import matplotlib.pyplot as plt"
   ]
  },
  {
   "cell_type": "code",
   "execution_count": 11,
   "id": "0bf8560f",
   "metadata": {},
   "outputs": [
    {
     "data": {
      "image/png": "[encoded data removed]",
      "text/plain": [
       "<Figure size 600x400 with 24 Axes>"
      ]
     },
     "metadata": {},
     "output_type": "display_data"
    }
   ],
   "source": [
    " figure, axes = plt.subplots(nrows=4, ncols=6, figsize=(6, 4))"
   ]
  },
  {
   "cell_type": "code",
   "execution_count": 12,
   "id": "e46c9409",
   "metadata": {},
   "outputs": [
    {
     "data": {
      "image/png": "[encoded data removed]",
      "text/plain": [
       "<Figure size 600x400 with 24 Axes>"
      ]
     },
     "metadata": {},
     "output_type": "display_data"
    }
   ],
   "source": [
    "figure, axes = plt.subplots(nrows=4, ncols=6, figsize=(6, 4))\n",
    "\n",
    "### Displaying Each Image and Removing the Axes Labels \n",
    "\n",
    "for item in zip(axes.ravel(), digits.images, digits.target):\n",
    "    axes, image, target = item\n",
    "    axes.imshow(image, cmap=plt.cm.gray_r)\n",
    "    axes.set_xticks([])  # remove x-axis tick marks\n",
    "    axes.set_yticks([])  # remove y-axis tick marks\n",
    "    axes.set_title(target)\n",
    "plt.tight_layout() "
   ]
  },
  {
   "cell_type": "markdown",
   "id": "a5edb5da",
   "metadata": {},
   "source": [
    "### 15.2.4 Splitting the Data for Training and Testing  \n",
    "  \n",
    "You typically train a machine-learning model with a subset of a dataset. Typically, **the\n",
    "more data you have for training, the better you can train the model**. It’s important to set\n",
    "aside a portion of your data for testing, so you can evaluate a model’s performance using\n",
    "data that the model has not yet seen. Once you’re confident that the model is performing\n",
    "well, you can use it to make predictions using new data it hasn’t seen.  \n",
    "  \n",
    "We first break the data into a **training set** and a **testing set** to prepare to train and test\n",
    "the model. The function **train_test_split** from the **sklearn.model_selection** module\n",
    "shuffles the data to randomize it, then splits the samples in the data array and the target\n",
    "values in the target array into training and testing sets. This helps ensure that the training\n",
    "and testing sets have similar characteristics. The shuffling and splitting is performed conveniently for you by a **ShuffleSplit** object from the sklearn.model_selection module.  \n",
    "  \n",
    "Function train_test_split returns a tuple of four elements in which the first two are the\n",
    "samples split into training and testing sets, and the last two are the corresponding target\n",
    "values split into training and testing sets. By convention, uppercase X is used to represent\n",
    "the samples, and lowercase y is used to represent the target values: "
   ]
  },
  {
   "cell_type": "code",
   "execution_count": 13,
   "id": "00cd8b6d",
   "metadata": {},
   "outputs": [],
   "source": [
    "from sklearn.model_selection import train_test_split"
   ]
  },
  {
   "cell_type": "code",
   "execution_count": 14,
   "id": "a0f93e28",
   "metadata": {},
   "outputs": [],
   "source": [
    "X_train, X_test, y_train, y_test = train_test_split(digits.data, digits.target, random_state=11)"
   ]
  },
  {
   "cell_type": "markdown",
   "id": "a05e91c7",
   "metadata": {},
   "source": [
    "We assume the data has **balanced classes**—that is, the samples are divided evenly among\n",
    "the classes. This is the case for each of scikit-learn’s bundled classification datasets. Unbalanced classes could lead to incorrect results.  \n",
    "  \n",
    "In the “Functions” chapter, you saw how to seed a random-number generator for\n",
    "reproducibility. In machine-learning studies, this helps others confirm your results by\n",
    "working with the same randomly selected data. Function train_test_split provides the\n",
    "keyword argument random_state for reproducibility. When you run the code in the future\n",
    "with the same seed value, train_test_split will select the same data for the training set\n",
    "and the same data for the testing set. We chose the seed value (11) arbitrarily.  \n",
    "  \n",
    "#### Training and Testing Set Sizes  \n",
    "Looking at X_train’s and X_test’s shapes, you can see that, by default, train_test_split reserves 75% of the data for training and 25% for testing:   "
   ]
  },
  {
   "cell_type": "code",
   "execution_count": 15,
   "id": "ee16ce0c",
   "metadata": {},
   "outputs": [
    {
     "data": {
      "text/plain": [
       "(1347, 64)"
      ]
     },
     "execution_count": 15,
     "metadata": {},
     "output_type": "execute_result"
    }
   ],
   "source": [
    "X_train.shape"
   ]
  },
  {
   "cell_type": "code",
   "execution_count": 16,
   "id": "34a736f4",
   "metadata": {},
   "outputs": [
    {
     "data": {
      "text/plain": [
       "(450, 64)"
      ]
     },
     "execution_count": 16,
     "metadata": {},
     "output_type": "execute_result"
    }
   ],
   "source": [
    "X_test.shape"
   ]
  },
  {
   "cell_type": "markdown",
   "id": "ff212b3f",
   "metadata": {},
   "source": [
    "To specify different splits, you can set the sizes of the testing and training sets with the train_test_split function’s keyword arguments test_size and train_size. Use floating-point values from 0.0 through 1.0 to specify the percentages of the data to use for each.  \n",
    "You can use integer values to set the precise numbers of samples. If you specify one of these keyword arguments, the other is inferred. For example, the statement\n",
    "```python\n",
    "X_train, X_test, y_train, y_test = train_test_split(\n",
    " digits.data, digits.target, random_state=11, test_size=0.20)\n",
    "```  \n",
    "specifies that 20% of the data is for testing, so train_size is inferred to be 0.80.  \n",
    "  \n",
    "### 15.2.5 Creating the Model  \n",
    "  \n",
    " The **KNeighborsClassifier** estimator (module **sklearn.neighbors**) implements the knearest neighbors algorithm. First, we create the KNeighborsClassifier estimator object: "
   ]
  },
  {
   "cell_type": "code",
   "execution_count": 17,
   "id": "e49ebd44",
   "metadata": {},
   "outputs": [],
   "source": [
    "from sklearn.neighbors import KNeighborsClassifier"
   ]
  },
  {
   "cell_type": "code",
   "execution_count": 18,
   "id": "382b544b",
   "metadata": {},
   "outputs": [],
   "source": [
    "knn = KNeighborsClassifier()"
   ]
  },
  {
   "cell_type": "markdown",
   "id": "08ab8f6c",
   "metadata": {},
   "source": [
    "To create an estimator, you simply create an object. The internal details of how this object\n",
    "implements the k-nearest neighbors algorithm are hidden in the object. You’ll simply call\n",
    "its methods. This is the essence of Python object-based programming.\n",
    "\n",
    "### 15.2.6 Training the Model   \n",
    "  \n",
    "Next, we invoke the KNeighborsClassifier object’s **fit method**, which loads the sample\n",
    "training set (X_train) and target training set (y_train) into the estimator:"
   ]
  },
  {
   "cell_type": "code",
   "execution_count": 19,
   "id": "2dbf0c36",
   "metadata": {},
   "outputs": [
    {
     "data": {
      "text/html": [
       "<style>#sk-container-id-1 {color: black;}#sk-container-id-1 pre{padding: 0;}#sk-container-id-1 div.sk-toggleable {background-color: white;}#sk-container-id-1 label.sk-toggleable__label {cursor: pointer;display: block;width: 100%;margin-bottom: 0;padding: 0.3em;box-sizing: border-box;text-align: center;}#sk-container-id-1 label.sk-toggleable__label-arrow:before {content: \"▸\";float: left;margin-right: 0.25em;color: #696969;}#sk-container-id-1 label.sk-toggleable__label-arrow:hover:before {color: black;}#sk-container-id-1 div.sk-estimator:hover label.sk-toggleable__label-arrow:before {color: black;}#sk-container-id-1 div.sk-toggleable__content {max-height: 0;max-width: 0;overflow: hidden;text-align: left;background-color: #f0f8ff;}#sk-container-id-1 div.sk-toggleable__content pre {margin: 0.2em;color: black;border-radius: 0.25em;background-color: #f0f8ff;}#sk-container-id-1 input.sk-toggleable__control:checked~div.sk-toggleable__content {max-height: 200px;max-width: 100%;overflow: auto;}#sk-container-id-1 input.sk-toggleable__control:checked~label.sk-toggleable__label-arrow:before {content: \"▾\";}#sk-container-id-1 div.sk-estimator input.sk-toggleable__control:checked~label.sk-toggleable__label {background-color: #d4ebff;}#sk-container-id-1 div.sk-label input.sk-toggleable__control:checked~label.sk-toggleable__label {background-color: #d4ebff;}#sk-container-id-1 input.sk-hidden--visually {border: 0;clip: rect(1px 1px 1px 1px);clip: rect(1px, 1px, 1px, 1px);height: 1px;margin: -1px;overflow: hidden;padding: 0;position: absolute;width: 1px;}#sk-container-id-1 div.sk-estimator {font-family: monospace;background-color: #f0f8ff;border: 1px dotted black;border-radius: 0.25em;box-sizing: border-box;margin-bottom: 0.5em;}#sk-container-id-1 div.sk-estimator:hover {background-color: #d4ebff;}#sk-container-id-1 div.sk-parallel-item::after {content: \"\";width: 100%;border-bottom: 1px solid gray;flex-grow: 1;}#sk-container-id-1 div.sk-label:hover label.sk-toggleable__label {background-color: #d4ebff;}#sk-container-id-1 div.sk-serial::before {content: \"\";position: absolute;border-left: 1px solid gray;box-sizing: border-box;top: 0;bottom: 0;left: 50%;z-index: 0;}#sk-container-id-1 div.sk-serial {display: flex;flex-direction: column;align-items: center;background-color: white;padding-right: 0.2em;padding-left: 0.2em;position: relative;}#sk-container-id-1 div.sk-item {position: relative;z-index: 1;}#sk-container-id-1 div.sk-parallel {display: flex;align-items: stretch;justify-content: center;background-color: white;position: relative;}#sk-container-id-1 div.sk-item::before, #sk-container-id-1 div.sk-parallel-item::before {content: \"\";position: absolute;border-left: 1px solid gray;box-sizing: border-box;top: 0;bottom: 0;left: 50%;z-index: -1;}#sk-container-id-1 div.sk-parallel-item {display: flex;flex-direction: column;z-index: 1;position: relative;background-color: white;}#sk-container-id-1 div.sk-parallel-item:first-child::after {align-self: flex-end;width: 50%;}#sk-container-id-1 div.sk-parallel-item:last-child::after {align-self: flex-start;width: 50%;}#sk-container-id-1 div.sk-parallel-item:only-child::after {width: 0;}#sk-container-id-1 div.sk-dashed-wrapped {border: 1px dashed gray;margin: 0 0.4em 0.5em 0.4em;box-sizing: border-box;padding-bottom: 0.4em;background-color: white;}#sk-container-id-1 div.sk-label label {font-family: monospace;font-weight: bold;display: inline-block;line-height: 1.2em;}#sk-container-id-1 div.sk-label-container {text-align: center;}#sk-container-id-1 div.sk-container {/* jupyter's `normalize.less` sets `[hidden] { display: none; }` but bootstrap.min.css set `[hidden] { display: none !important; }` so we also need the `!important` here to be able to override the default hidden behavior on the sphinx rendered scikit-learn.org. See: https://github.com/scikit-learn/scikit-learn/issues/21755 */display: inline-block !important;position: relative;}#sk-container-id-1 div.sk-text-repr-fallback {display: none;}</style><div id=\"sk-container-id-1\" class=\"sk-top-container\"><div class=\"sk-text-repr-fallback\"><pre>KNeighborsClassifier()</pre><b>In a Jupyter environment, please rerun this cell to show the HTML representation or trust the notebook. <br />On GitHub, the HTML representation is unable to render, please try loading this page with nbviewer.org.</b></div><div class=\"sk-container\" hidden><div class=\"sk-item\"><div class=\"sk-estimator sk-toggleable\"><input class=\"sk-toggleable__control sk-hidden--visually\" id=\"sk-estimator-id-1\" type=\"checkbox\" checked><label for=\"sk-estimator-id-1\" class=\"sk-toggleable__label sk-toggleable__label-arrow\">KNeighborsClassifier</label><div class=\"sk-toggleable__content\"><pre>KNeighborsClassifier()</pre></div></div></div></div></div>"
      ],
      "text/plain": [
       "KNeighborsClassifier()"
      ]
     },
     "execution_count": 19,
     "metadata": {},
     "output_type": "execute_result"
    }
   ],
   "source": [
    "knn.fit(X=X_train, y=y_train)"
   ]
  },
  {
   "cell_type": "markdown",
   "id": "a194417c",
   "metadata": {},
   "source": [
    "For most, scikit-learn estimators, the fit method loads the data into the estimator\n",
    "then uses that data to perform complex calculations behind the scenes that learn from the\n",
    "data and train the model. The KNeighborsClassifier’s fit method just loads the data\n",
    "into the estimator, because k-NN actually has no initial learning process. The estimator is\n",
    "said to be **lazy** because its work is performed only when you use it to make predictions. In\n",
    "this and the next chapter, you’ll use lots of models that have significant training phases. In\n",
    "the real-world machine-learning applications, it can sometimes take minutes, hours, days\n",
    "or even months to train your models. We’ll see in the next chapter, “Deep Learning,” that\n",
    "special-purpose, high-performance hardware called GPUs and TPUs can significantly\n",
    "reduce model training time.  \n",
    "  \n",
    "As shown in prev shell's output, the fit method returns the estimator, so IPython\n",
    "displays its string representation, which includes the estimator’s default settings. The\n",
    "n_neighbors value corresponds to k in the k-nearest neighbors algorithm. By default, a\n",
    "KNeighborsClassifier looks at the five nearest neighbors to make its predictions. For\n",
    "simplicity, we generally use the default estimator settings. For KNeighborsClassifier,\n",
    "these are described at:  \n",
    "> http://scikit-learn.org/stable/modules/generated/sklearn.neighbors.KNeighborsClassifier.html  \n",
    "  \n",
    "Many of these settings are beyond the scope of this book. In Part 2 of this case study, we’ll\n",
    "discuss how to choose the best value for n_neighbors. \n",
    "  \n",
    "### 15.2.7 Predicting Digit Classes  \n",
    "  \n",
    "Now that we’ve loaded the data into the KNeighborsClassifier, we can use it with the test samples to make predictions. Calling the estimator’s **predict method** with X_test as an argument returns an array containing the predicted class of each test image: "
   ]
  },
  {
   "cell_type": "code",
   "execution_count": 20,
   "id": "c8b10a1a",
   "metadata": {},
   "outputs": [],
   "source": [
    "predicted = knn.predict(X=X_test)"
   ]
  },
  {
   "cell_type": "code",
   "execution_count": 21,
   "id": "7e3924ca",
   "metadata": {},
   "outputs": [],
   "source": [
    "expected = y_test"
   ]
  },
  {
   "cell_type": "markdown",
   "id": "11f081fa",
   "metadata": {},
   "source": [
    "Let’s look at the predicted digits vs. expected digits for the first 20 test samples: "
   ]
  },
  {
   "cell_type": "code",
   "execution_count": 22,
   "id": "1ee61940",
   "metadata": {},
   "outputs": [
    {
     "data": {
      "text/plain": [
       "array([0, 4, 9, 9, 3, 1, 4, 1, 5, 0, 4, 9, 4, 1, 5, 3, 3, 8, 5, 6])"
      ]
     },
     "execution_count": 22,
     "metadata": {},
     "output_type": "execute_result"
    }
   ],
   "source": [
    " predicted[:20]"
   ]
  },
  {
   "cell_type": "code",
   "execution_count": 23,
   "id": "bab0ebbb",
   "metadata": {},
   "outputs": [
    {
     "data": {
      "text/plain": [
       "array([0, 4, 9, 9, 3, 1, 4, 1, 5, 0, 4, 9, 4, 1, 5, 3, 3, 8, 3, 6])"
      ]
     },
     "execution_count": 23,
     "metadata": {},
     "output_type": "execute_result"
    }
   ],
   "source": [
    "expected[:20]"
   ]
  },
  {
   "cell_type": "markdown",
   "id": "77cab0bc",
   "metadata": {},
   "source": [
    "As you can see, in the first 20 elements, only the predicted and expected arrays’ values at index 18 do not match. We expected a 3, but the model predicted a 5.  \n",
    "Let’s use a list comprehension to locate all the incorrect predictions for the entire test set—that is, the cases in which the predicted and expected values do not match: "
   ]
  },
  {
   "cell_type": "code",
   "execution_count": 24,
   "id": "65c346f1",
   "metadata": {},
   "outputs": [],
   "source": [
    "wrong = [(p, e) for (p, e) in zip(predicted, expected) if p != e]"
   ]
  },
  {
   "cell_type": "code",
   "execution_count": 25,
   "id": "9b56e050",
   "metadata": {},
   "outputs": [
    {
     "data": {
      "text/plain": [
       "[(5, 3),\n",
       " (8, 9),\n",
       " (4, 9),\n",
       " (7, 3),\n",
       " (7, 4),\n",
       " (2, 8),\n",
       " (9, 8),\n",
       " (3, 8),\n",
       " (3, 8),\n",
       " (1, 8)]"
      ]
     },
     "execution_count": 25,
     "metadata": {},
     "output_type": "execute_result"
    }
   ],
   "source": [
    "wrong"
   ]
  },
  {
   "cell_type": "markdown",
   "id": "3b628350",
   "metadata": {},
   "source": [
    "The list comprehension uses zip to create tuples containing the corresponding elements\n",
    "in predicted and expected. We include a tuple in the result only if its p (the predicted\n",
    "value) and e (the expected value) differ—that is, the predicted value was incorrect. In this\n",
    "example, the estimator incorrectly predicted only 10 of the 450 test samples. So the prediction accuracy of this estimator is an impressive 97.78%, even though we used only the\n",
    "estimator’s default parameters.   \n",
    "  \n",
    "## 15.3 Case Study: Classification with k-Nearest Neighbors and the Digits Dataset, Part 2  \n",
    "  \n",
    "In this section, we continue the digit classification case study. We’ll:  \n",
    "* evaluate the k-NN classification estimator’s accuracy,  \n",
    "* execute multiple estimators and can compare their results so you can choose the best one(s), and  \n",
    "* show how to tune k-NN’s hyperparameter k to get the best performance out of a KNeighborsClassifier.  \n",
    "  \n",
    "### 15.3.1 Metrics for Model Accuracy   \n",
    "Once you’ve trained and tested a model, you’ll want to measure its accuracy. Here, we’ll look at two ways of doing this—a classification estimator’s score method and a confusion matrix. \n",
    "  \n",
    "#### Estimator Method `score`  \n",
    "Each estimator has a **score** method that returns an indication of how well the estimator performs for the test data you pass as arguments. For classification estimators, this method returns the prediction accuracy for the test data:"
   ]
  },
  {
   "cell_type": "code",
   "execution_count": 26,
   "id": "f4e7f6d6",
   "metadata": {},
   "outputs": [
    {
     "name": "stdout",
     "output_type": "stream",
     "text": [
      "97.78%\n"
     ]
    }
   ],
   "source": [
    " print(f'{knn.score(X_test, y_test):.2%}')"
   ]
  },
  {
   "cell_type": "markdown",
   "id": "a1755208",
   "metadata": {},
   "source": [
    "The kNeighborsClassifier’s with its default k (that is, n_neighbors=5) achieved 97.78% prediction accuracy. Shortly, we’ll perform hyperparameter tuning to try to determine the optimal value for k, hoping that we get even better accuracy.  \n",
    "  \n",
    "#### Confusion Matrix  \n",
    "Another way to check a classification estimator’s accuracy is via a **confusion matrix**, which shows the correct and incorrect predicted values (also known as the hits and misses) for a given class. Simply call the function **confusion_matrix** from the **sklearn.metrics module**, passing the expected classes and the predicted classes as arguments, as in: "
   ]
  },
  {
   "cell_type": "code",
   "execution_count": 27,
   "id": "a14ed8d4",
   "metadata": {},
   "outputs": [],
   "source": [
    "from sklearn.metrics import confusion_matrix\n",
    "\n",
    "confusion = confusion_matrix(y_true=expected, y_pred=predicted)"
   ]
  },
  {
   "cell_type": "markdown",
   "id": "1f9cbb43",
   "metadata": {},
   "source": [
    "The y_true keyword argument specifies the test samples’ actual classes. People looked at the dataset’s images and labeled them with specific classes (the digit values). The y_pred keyword argument specifies the predicted digits for those test images.   \n",
    "  \n",
    "Below is the confusion matrix produced by the preceding call. The correct predictions are shown on the diagonal from top-left to bottom-right. This is called the **principal diagonal**. The nonzero values that are not on the principal diagonal indicate incorrect predictions: "
   ]
  },
  {
   "cell_type": "code",
   "execution_count": 28,
   "id": "5253b546",
   "metadata": {},
   "outputs": [
    {
     "data": {
      "text/plain": [
       "array([[45,  0,  0,  0,  0,  0,  0,  0,  0,  0],\n",
       "       [ 0, 45,  0,  0,  0,  0,  0,  0,  0,  0],\n",
       "       [ 0,  0, 54,  0,  0,  0,  0,  0,  0,  0],\n",
       "       [ 0,  0,  0, 42,  0,  1,  0,  1,  0,  0],\n",
       "       [ 0,  0,  0,  0, 49,  0,  0,  1,  0,  0],\n",
       "       [ 0,  0,  0,  0,  0, 38,  0,  0,  0,  0],\n",
       "       [ 0,  0,  0,  0,  0,  0, 42,  0,  0,  0],\n",
       "       [ 0,  0,  0,  0,  0,  0,  0, 45,  0,  0],\n",
       "       [ 0,  1,  1,  2,  0,  0,  0,  0, 39,  1],\n",
       "       [ 0,  0,  0,  0,  1,  0,  0,  0,  1, 41]])"
      ]
     },
     "execution_count": 28,
     "metadata": {},
     "output_type": "execute_result"
    }
   ],
   "source": [
    "confusion"
   ]
  },
  {
   "cell_type": "markdown",
   "id": "ad92dfd5",
   "metadata": {},
   "source": [
    "Each row represents one distinct class—that is, one of the digits 0–9. The columns within a row specify how many of the test samples were classified into each distinct class.  \n",
    "  \n",
    "For example, row 0:\n",
    "> [45, 0, 0, 0, 0, 0, 0, 0, 0, 0]  \n",
    "  \n",
    "represents the digit 0 class. The columns represent the ten possible target classes 0 through 9. Because we’re working with digits, the classes (0–9) and the row and column index numbers (0–9) happen to match. According to row 0, 45 test samples were classified as the digit 0, and none of the test samples were misclassified as any of the digits 1 through 9. So 100% of the 0s were correctly predicted.  \n",
    "  \n",
    "On the other hand, consider row 8 which represents the results for the digit 8:\n",
    "> [ 0, 1, 1, 2, 0, 0, 0, 0, 39, 1]  \n",
    "  \n",
    "* The 1 at column index 1 indicates that one 8 was incorrectly classified as a 1.  \n",
    "* The 1 at column index 2 indicates that one 8 was incorrectly classified as a 2.  \n",
    "* The 2 at column index 3 indicates that two 8s were incorrectly classified as 3s.  \n",
    "* The 39 at column index 8 indicates that 39 8s were correctly classified as 8s.  \n",
    "* The 1 at column index 9 indicates that one 8 was incorrectly classified as a 9.  \n",
    "  \n",
    "So the algorithm correctly predicted 88.63% (39 of 44) of the 8s. Earlier we saw that the\n",
    "overall prediction accuracy of this estimator was 97.78%. The lower prediction accuracy\n",
    "for 8s indicates that they’re apparently harder to recognize than the other digits.\n",
    "  \n",
    "#### Classification Report  \n",
    "  \n",
    "The sklearn.metrics module also provides function **classification_report**, which produces a table of **classification metrics** based on the expected and predicted values:"
   ]
  },
  {
   "cell_type": "code",
   "execution_count": 29,
   "id": "cfd6a20c",
   "metadata": {},
   "outputs": [],
   "source": [
    " from sklearn.metrics import classification_report"
   ]
  },
  {
   "cell_type": "code",
   "execution_count": 30,
   "id": "6af745f8",
   "metadata": {},
   "outputs": [],
   "source": [
    "names = [str(digit) for digit in digits.target_names]"
   ]
  },
  {
   "cell_type": "code",
   "execution_count": 31,
   "id": "24683238",
   "metadata": {},
   "outputs": [
    {
     "name": "stdout",
     "output_type": "stream",
     "text": [
      "              precision    recall  f1-score   support\n",
      "\n",
      "           0       1.00      1.00      1.00        45\n",
      "           1       0.98      1.00      0.99        45\n",
      "           2       0.98      1.00      0.99        54\n",
      "           3       0.95      0.95      0.95        44\n",
      "           4       0.98      0.98      0.98        50\n",
      "           5       0.97      1.00      0.99        38\n",
      "           6       1.00      1.00      1.00        42\n",
      "           7       0.96      1.00      0.98        45\n",
      "           8       0.97      0.89      0.93        44\n",
      "           9       0.98      0.95      0.96        43\n",
      "\n",
      "    accuracy                           0.98       450\n",
      "   macro avg       0.98      0.98      0.98       450\n",
      "weighted avg       0.98      0.98      0.98       450\n",
      "\n"
     ]
    }
   ],
   "source": [
    "print(classification_report(expected, predicted, target_names=names))"
   ]
  },
  {
   "cell_type": "markdown",
   "id": "533c0c74",
   "metadata": {},
   "source": [
    "In the report:  \n",
    "* precision is the total number of correct predictions for a given digit divided by the total number of predictions for that digit. You can confirm the precision by looking at each column in the confusion matrix. For example, if you look at column index 7, you’ll see 1s in rows 3 and 4, indicating that one 3 and one 4 were incorrectly classified as 7s and a 45 in row 7 indicating the 45 images were correctly classified as 7s. So the precision for the digit 7 is 45/47 or 0.96.  \n",
    "* recall is the total number of correct predictions for a given digit divided by the total number of samples that should have been predicted as that digit. You can confirm the recall by looking at each row in the confusion matrix. For example, if you look at row index 8, you’ll see three 1s and a 2 indicating that some 8s were incorrectly classified as other digits and a 39 indicating that 39 images were correctly classified. So the recall for the digit 8 is 39/44 or 0.89.  \n",
    "* f1-score—This is the average of the precision and the recall.  \n",
    "* support—The number of samples with a given expected value. For example, 50 samples were labeled as 4s, and 38 samples were labeled as 5s.  \n",
    "  \n",
    "For details on the averages displayed at the bottom of the report, see:\n",
    ">http://scikit-learn.org/stable/modules/generated/sklearn.metrics.classification_report.html  \n",
    "  \n",
    "#### Predicitng from hand-drawn image:  "
   ]
  },
  {
   "cell_type": "code",
   "execution_count": 32,
   "id": "efe1f4a5",
   "metadata": {},
   "outputs": [],
   "source": [
    "from PIL import Image\n",
    "import numpy as np\n",
    "\n",
    "# Load the hand-drawn image\n",
    "image_path = \"20250319_104940.jpg\"  # replace with the path to your image\n",
    "image = Image.open(image_path)\n",
    "\n",
    "# Convert the image to grayscale (if it is in color)\n",
    "image = image.convert('L')\n",
    "\n",
    "# Resize the image to match the size of the training images (e.g., 28x28)\n",
    "image = image.resize((8, 8))\n",
    "\n",
    "image.show()\n",
    "\n",
    "# Convert the image to a numpy array and flatten it to a 1D array\n",
    "image_array = np.array(image).flatten()\n",
    "\n",
    "# Normalize the image (assuming pixel values were scaled in training)\n",
    "# image_array = image_array / 255.0  # scaling to [0, 1] if needed\n"
   ]
  },
  {
   "cell_type": "code",
   "execution_count": 33,
   "id": "398faf44",
   "metadata": {},
   "outputs": [
    {
     "name": "stdout",
     "output_type": "stream",
     "text": [
      "Predicted label: 1\n"
     ]
    }
   ],
   "source": [
    "# Predict the digit using the trained KNN model\n",
    "predicted_label = knn.predict([image_array])  # We pass the image as a 2D array with shape (1, 784)\n",
    "print(f\"Predicted label: {predicted_label[0]}\")"
   ]
  },
  {
   "cell_type": "code",
   "execution_count": 34,
   "id": "0e519d69",
   "metadata": {},
   "outputs": [
    {
     "name": "stdout",
     "output_type": "stream",
     "text": [
      "(64,)\n"
     ]
    }
   ],
   "source": [
    "print(image_array.shape) "
   ]
  },
  {
   "cell_type": "markdown",
   "id": "4454aa48",
   "metadata": {},
   "source": [
    "#### Visualizing the Confusion Matrix  \n",
    "A **heat map** displays values as colors, often with values of higher magnitude displayed as more intense colors. Seaborn’s graphing functions work with two-dimensional data. When using a pandas DataFrame as the data source, Seaborn automatically labels its visualizations using the column names and row indices. Let’s convert the confusion matrix into a DataFrame, then graph it: "
   ]
  },
  {
   "cell_type": "code",
   "execution_count": 35,
   "id": "f1e6d0d9",
   "metadata": {},
   "outputs": [],
   "source": [
    "import pandas as pd"
   ]
  },
  {
   "cell_type": "code",
   "execution_count": 36,
   "id": "c3bbddb4",
   "metadata": {},
   "outputs": [],
   "source": [
    "confusion_df = pd.DataFrame(confusion, index=range(10), columns=range(10))"
   ]
  },
  {
   "cell_type": "code",
   "execution_count": 37,
   "id": "087aca4d",
   "metadata": {},
   "outputs": [],
   "source": [
    "import seaborn as sns"
   ]
  },
  {
   "cell_type": "code",
   "execution_count": 38,
   "id": "36d70728",
   "metadata": {},
   "outputs": [
    {
     "data": {
      "image/png": "[encoded data removed]",
      "text/plain": [
       "<Figure size 640x480 with 2 Axes>"
      ]
     },
     "metadata": {},
     "output_type": "display_data"
    }
   ],
   "source": [
    "axes = sns.heatmap(confusion_df, annot=True, cmap='nipy_spectral_r')"
   ]
  },
  {
   "cell_type": "markdown",
   "id": "7ff7dfae",
   "metadata": {},
   "source": [
    "The Seaborn function **heatmap** creates a heat map from the specified DataFrame. The\n",
    "keyword argument annot=True (short for “annotation”) displays a color bar to the right\n",
    "of the diagram, showing how the values correspond to the heat map’s colors. The\n",
    "cmap='nipy_spectral_r' keyword argument specifies which color map to use. We used\n",
    "the nipy_spectral_r color map with the colors shown in the heat map’s color bar. When\n",
    "you display a confusion matrix as a heat map, the principal diagonal and the incorrect predictions stand out nicely. "
   ]
  },
  {
   "cell_type": "markdown",
   "id": "832bc42e",
   "metadata": {},
   "source": [
    "### 15.3.2 K-Fold Cross-Validation  \n",
    "**K-fold cross-validation** enables you to use all of your data for both training and testing, to get a better sense of how well your model will make predictions for new data by repeatedly training and testing the model with different portions of the dataset. K-fold cross-validation splits the dataset into k equal-size folds (this k is unrelated to k in the k-nearest neighbors algorithm). You then repeatedly train your model with k – 1 folds and test the model with the remaining fold. For example, consider using k = 10 with folds numbered 1 through 10. With 10 folds, we’d do 10 successive training and testing cycles:\n",
    "* First, we’d train with folds 1–9, then test with fold 10.  \n",
    "* Next, we’d train with folds 1–8 and 10, then test with fold 9.  \n",
    "* Next, we’d train with folds 1–7 and 9–10, then test with fold 8.  \n",
    "This training and testing cycle continues until each fold has been used to test the model.  \n",
    "  \n",
    "#### KFold Class  \n",
    "Scikit-learn provides the **KFold class** and the **cross_val_score function** (both in the module sklearn.model_selection) to help you perform the training and testing cycles described above. Let’s perform k-fold cross-validation with the Digits dataset and the KNeighborsClassifier created earlier. First, create a KFold object:"
   ]
  },
  {
   "cell_type": "code",
   "execution_count": 39,
   "id": "de8a32f5",
   "metadata": {},
   "outputs": [],
   "source": [
    "from sklearn.model_selection import KFold"
   ]
  },
  {
   "cell_type": "code",
   "execution_count": 40,
   "id": "a0eb2257",
   "metadata": {},
   "outputs": [],
   "source": [
    " kfold = KFold(n_splits=10, random_state=11, shuffle=True)"
   ]
  },
  {
   "cell_type": "markdown",
   "id": "0f07d5a6",
   "metadata": {},
   "source": [
    "The keyword arguments are:   \n",
    "* n_splits=10, which specifies the number of folds.   \n",
    "* random_state=11, which seeds the random number generator for reproducibility.    \n",
    "* shuffle=True, which causes the KFold object to randomize the data by shuffling it before splitting it into folds. This is particularly important if the samples might be ordered or grouped. For example, the Iris dataset we’ll use later in this chapter has 150 samples of three Iris species—the first 50 are Iris setosa, the next 50 are Iris versicolor and the last 50 are Iris virginica. If we do not shuffle the samples, then the training data might contain none of a particular Iris species and the test data might be all of one species.  \n",
    "  \n",
    "#### Using the KFold Object with Function cross_val_score\n",
    "Next, use function cross_val_score to train and test your model:"
   ]
  },
  {
   "cell_type": "code",
   "execution_count": 41,
   "id": "30cf2691",
   "metadata": {},
   "outputs": [],
   "source": [
    " from sklearn.model_selection import cross_val_score"
   ]
  },
  {
   "cell_type": "code",
   "execution_count": 42,
   "id": "10299dff",
   "metadata": {},
   "outputs": [],
   "source": [
    "scores = cross_val_score(estimator=knn, X=digits.data, y=digits.target, cv=kfold)"
   ]
  },
  {
   "cell_type": "markdown",
   "id": "8ec9f6a5",
   "metadata": {},
   "source": [
    "The keyword arguments are:  \n",
    "* estimator=knn, which specifies the estimator you’d like to validate.  \n",
    "* X=digits.data, which specifies the samples to use for training and testing.  \n",
    "* y=digits.target, which specifies the target predictions for the samples.  \n",
    "* cv=kfold, which specifies the cross-validation generator that defines how to split the samples and targets for training and testing.  \n",
    "Function cross_val_score returns an array of accuracy scores—one for each fold. As you can see below, the model was quite accurate. Its lowest accuracy score was 0.97777778 (97.78%) and in one case it was 100% accurate in predicting an entire fold:"
   ]
  },
  {
   "cell_type": "code",
   "execution_count": 43,
   "id": "0c839b47",
   "metadata": {},
   "outputs": [
    {
     "data": {
      "text/plain": [
       "array([0.97777778, 0.99444444, 0.98888889, 0.97777778, 0.98888889,\n",
       "       0.99444444, 0.97777778, 0.98882682, 1.        , 0.98324022])"
      ]
     },
     "execution_count": 43,
     "metadata": {},
     "output_type": "execute_result"
    }
   ],
   "source": [
    "scores"
   ]
  },
  {
   "cell_type": "markdown",
   "id": "1285ad22",
   "metadata": {},
   "source": [
    "Once you have the accuracy scores, you can get an overall sense of the model’s accuracy by calculating the mean accuracy score and the standard deviation among the 10 accuracy scores (or whatever number of folds you choose): "
   ]
  },
  {
   "cell_type": "code",
   "execution_count": 44,
   "id": "fcd11d03",
   "metadata": {},
   "outputs": [
    {
     "name": "stdout",
     "output_type": "stream",
     "text": [
      "Mean accuracy: 98.72%\n"
     ]
    }
   ],
   "source": [
    "print(f'Mean accuracy: {scores.mean():.2%}')"
   ]
  },
  {
   "cell_type": "code",
   "execution_count": 45,
   "id": "cd690555",
   "metadata": {},
   "outputs": [
    {
     "name": "stdout",
     "output_type": "stream",
     "text": [
      "Accuracy standard deviation: 0.75%\n"
     ]
    }
   ],
   "source": [
    "print(f'Accuracy standard deviation: {scores.std():.2%}')"
   ]
  },
  {
   "cell_type": "markdown",
   "id": "e1ce6667",
   "metadata": {},
   "source": [
    "On average, the model was 98.72% accurate—even better than the 97.78% we achieved\n",
    "when we trained the model with 75% of the data and tested the model with 25% earlier."
   ]
  },
  {
   "cell_type": "code",
   "execution_count": null,
   "id": "23df0c97",
   "metadata": {},
   "outputs": [],
   "source": []
  }
 ],
 "metadata": {
  "kernelspec": {
   "display_name": "Python 3 (ipykernel)",
   "language": "python",
   "name": "python3"
  },
  "language_info": {
   "codemirror_mode": {
    "name": "ipython",
    "version": 3
   },
   "file_extension": ".py",
   "mimetype": "text/x-python",
   "name": "python",
   "nbconvert_exporter": "python",
   "pygments_lexer": "ipython3",
   "version": "3.11.4"
  }
 },
 "nbformat": 4,
 "nbformat_minor": 5
}
