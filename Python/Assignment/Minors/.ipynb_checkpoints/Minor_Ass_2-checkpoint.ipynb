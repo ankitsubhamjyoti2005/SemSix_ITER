{
 "cells": [
  {
   "cell_type": "markdown",
   "id": "7fca9aec",
   "metadata": {},
   "source": [
    "# MINOR ASSIGNMENT-2: COMPUTER SCIENCE THINKING: RECURSION, SEARCHING, SORTING AND BIG O  "
   ]
  },
  {
   "cell_type": "markdown",
   "id": "1f726f3b-8515-4c74-8ad8-5dd9884e8c72",
   "metadata": {},
   "source": [
    "<b>Question 1:</b>  \n",
    "Write a recursive function power(base, exponent) that, when called, returns\n",
    "> base^exponent\n",
    "  \n"
   ]
  },
  {
   "cell_type": "code",
   "execution_count": 25,
   "id": "403b898f",
   "metadata": {},
   "outputs": [
    {
     "data": {
      "text/plain": [
       "729"
      ]
     },
     "execution_count": 25,
     "metadata": {},
     "output_type": "execute_result"
    }
   ],
   "source": [
    "def power(base, exponent):\n",
    "    if exponent == 1:\n",
    "        return base\n",
    "    return base * power(base, exponent - 1)\n",
    "\n",
    "power(3, 6)"
   ]
  },
  {
   "cell_type": "markdown",
   "id": "6258ea5f-f1c4-49b6-99f9-a719dcc6fda2",
   "metadata": {},
   "source": [
    "<b>Question 2:</b>  \n",
    "The greatest common divisor of integers x and y is the largest integer that evenly divides into both x\n",
    "and y. Write and test a recursive function gcd that returns the greatest common divisor of x and y.\n",
    "The gcd of x and y is defined recursively as follows: If y is equal to 0, then gcd(x, y) is x; otherwise,\n",
    "gcd(x, y) is gcd(y, x%y)."
   ]
  },
  {
   "cell_type": "code",
   "execution_count": 24,
   "id": "c48f7960",
   "metadata": {},
   "outputs": [
    {
     "data": {
      "text/plain": [
       "6"
      ]
     },
     "execution_count": 24,
     "metadata": {},
     "output_type": "execute_result"
    }
   ],
   "source": [
    "#q2\n",
    "\n",
    "def gcd(x, y):\n",
    "    if y == 0:\n",
    "        return x\n",
    "    return gcd(y, x % y)\n",
    "\n",
    "gcd(48, 18)"
   ]
  },
  {
   "cell_type": "markdown",
   "id": "deafed18-6e08-4088-b08d-0321beaaaba4",
   "metadata": {},
   "source": [
    "<b>Question 3:</b>  \n",
    "Write a recursive function that takes a number n as an input parameter and prints n-digit strictly\n",
    "increasing numbers."
   ]
  },
  {
   "cell_type": "code",
   "execution_count": 26,
   "id": "004c0331",
   "metadata": {
    "scrolled": true
   },
   "outputs": [
    {
     "name": "stdout",
     "output_type": "stream",
     "text": [
      "12\n",
      "13\n",
      "14\n",
      "15\n",
      "16\n",
      "17\n",
      "18\n",
      "19\n",
      "23\n",
      "24\n",
      "25\n",
      "26\n",
      "27\n",
      "28\n",
      "29\n",
      "34\n",
      "35\n",
      "36\n",
      "37\n",
      "38\n",
      "39\n",
      "45\n",
      "46\n",
      "47\n",
      "48\n",
      "49\n",
      "56\n",
      "57\n",
      "58\n",
      "59\n",
      "67\n",
      "68\n",
      "69\n",
      "78\n",
      "79\n",
      "89\n"
     ]
    }
   ],
   "source": [
    "#q3\n",
    "\n",
    "def numGen(n, start=1, num=\"\"):\n",
    "    if n == 0:\n",
    "        print(num)\n",
    "        return\n",
    "    \n",
    "    for digit in range(start, 10):\n",
    "        numGen(n-1, digit + 1, num + str(digit))\n",
    "        \n",
    "numGen(2)"
   ]
  },
  {
   "cell_type": "markdown",
   "id": "be197e70-db31-408f-8033-aadad347326e",
   "metadata": {},
   "source": [
    "<b>Question 4:</b>  \n",
    "Implement a recursive solution for computing the nth Fibonacci number. Then, analyze its time\n",
    "complexity. Propose a more efficient solution and compare the two approaches."
   ]
  },
  {
   "cell_type": "code",
   "execution_count": 29,
   "id": "cbc45bcb",
   "metadata": {},
   "outputs": [
    {
     "data": {
      "text/plain": [
       "6765"
      ]
     },
     "execution_count": 29,
     "metadata": {},
     "output_type": "execute_result"
    }
   ],
   "source": [
    "#q4\n",
    "\n",
    "def fibRec(n):\n",
    "    if n == 1 or n == 2:\n",
    "        return 1\n",
    "    return fibRec(n-1) + fibRec(n-2)\n",
    "\n",
    "fibRec(20)"
   ]
  },
  {
   "cell_type": "code",
   "execution_count": 30,
   "id": "090e80cb",
   "metadata": {},
   "outputs": [
    {
     "data": {
      "text/plain": [
       "6765"
      ]
     },
     "execution_count": 30,
     "metadata": {},
     "output_type": "execute_result"
    }
   ],
   "source": [
    "def fibMem(n, memo = None):\n",
    "    if memo is None:\n",
    "        memo = {}\n",
    "        \n",
    "    if n in memo:\n",
    "        return memo[n]\n",
    "    \n",
    "    if n == 1 or n == 2:\n",
    "        return 1\n",
    "    \n",
    "    memo[n] = fibMem(n-1, memo) + fibMem(n-2, memo);\n",
    "    return memo[n]\n",
    "\n",
    "fibMem(20)"
   ]
  },
  {
   "cell_type": "markdown",
   "id": "a895e8ae-11d2-41d8-8601-da3963699287",
   "metadata": {},
   "source": [
    "<b>Question 5:</b>  \n",
    "Given an array of N elements, not necessarily in ascending order, devised an algorithm to find the kth largest one. It should run in O(N) time on random inputs."
   ]
  },
  {
   "cell_type": "code",
   "execution_count": null,
   "id": "c58b240b",
   "metadata": {},
   "outputs": [],
   "source": [
    "#q5\n",
    "\n",
    "import random"
   ]
  },
  {
   "cell_type": "markdown",
   "id": "92bd37fd-d852-4597-a45f-abb3575b4e25",
   "metadata": {},
   "source": [
    "<b>Question 6:</b>  \n",
    "For each of the following code snippets, determine the time complexity in terms of Big O. Explain your answer.  \n",
    "  \n",
    "**(a) :**  \n",
    "```python\n",
    "def example1(n):\n",
    "    for i in range(n):\n",
    "        for j in range(n):\n",
    "            print(i, j)\n",
    "```\n",
    "**Ans-** Time Complexity: O(n^2)  \n",
    "  \n",
    "**(b) :**  \n",
    "```python\n",
    "for i in range(n):\n",
    "    print(i)\n",
    "```  \n",
    "**Ans-** Time Complexity: O(n)  \n",
    "  \n",
    "**(c) :**  \n",
    "```python\n",
    "def recursive_function(n):\n",
    "    if n <= 1:\n",
    "        return 1\n",
    "    return recursive_function(n - 1) + recursive_function(n - 1)\n",
    "```\n",
    "**Ans-** Time Complexity: O(2^n)  \n",
    "  "
   ]
  },
  {
   "cell_type": "markdown",
   "id": "5d7babe1-a8f1-497c-b0c2-88fa31365a53",
   "metadata": {},
   "source": [
    "<b>Question 7:</b>  \n",
    "Given N points on a circle, centered at the origin, design an algorithm that determines whether there\n",
    "are two points that are antipodal, i.e., the line connecting the two points goes through the origin. Your\n",
    "algorithm should run in time proportional to NlogN."
   ]
  },
  {
   "cell_type": "code",
   "execution_count": null,
   "id": "e8d5f28e-c241-480a-8a40-7018f4ef3cdb",
   "metadata": {},
   "outputs": [],
   "source": []
  },
  {
   "cell_type": "markdown",
   "id": "d48662bb-6a6f-4531-81b8-a109a0c68d63",
   "metadata": {},
   "source": [
    "<b>Question 8:</b>  \n",
    "The **quicksort algorithm** is a recursive sorting technique that follows these steps:  \n",
    "1. **Partition Step:** Choose the first element of the array as the pivot and determine its final position\n",
    "in the sorted array by ensuring all elements to its left are smaller and all elements to its right are larger.  \n",
    "1. **Recursive Step:** Recursively repeat the partitioning process on the subarrays created on either side of the pivot.\n",
    "   \n",
    "As an example, consider the array [37, 2, 6, 4, 89, 8, 10, 12, 68, 45] with 37 as the pivot. Using the partitioning logic, the pivot eventually moves to its correct position, resulting in two subarrays: [12, 2, 6, 4, 10, 8] and [89, 68, 45]. The algorithm continues recursively until the entire array is sorted.  \n",
    "  \n",
    "Write a Python function quick_sort that implements the quicksort algorithm. The function should include a helper function quick_sort_helper to handle recursion. The helper function must take a starting and ending index as arguments and sort the array in-place. Demonstrate the function by sorting the given array and printing the sorted output."
   ]
  },
  {
   "cell_type": "code",
   "execution_count": null,
   "id": "d205c6dd-c7a1-46e6-a6c1-629f8f6da8f7",
   "metadata": {},
   "outputs": [],
   "source": []
  },
  {
   "cell_type": "markdown",
   "id": "f7c6abcb-b858-43ce-9e13-277d13884368",
   "metadata": {},
   "source": [
    "<b>Question 9:</b>  \n",
    "You are given the following list of famous personalities with their net worth:  \n",
    "• Elon Musk: 433.9 Billion  \n",
    "• Jeff Bezos: 239.4 Billion  \n",
    "• Mark Zuckerberg: 211.8 Billion  \n",
    "• Larry Ellison: 204.6 Billion  \n",
    "• Bernard Arnault & Family: 181.3  \n",
    "• Larry Page: 161.4 Billion\n",
    "     \n",
    "Develop a program to sort the aforementioned details on the basis of net worth using  \n",
    "a. Selection sort  \n",
    "b. Bubble sort  \n",
    "c. Insertion sort.  \n",
    "  \n",
    "The final sorted data should be the same for all cases. After you obtain the sorted data, present the result in the form of the following dictionary:  \n",
    "{’name1’:networth1, ’name2’:networth2,...}"
   ]
  },
  {
   "cell_type": "code",
   "execution_count": null,
   "id": "fde44912-69a8-4813-a2c5-589966162fcc",
   "metadata": {},
   "outputs": [],
   "source": []
  },
  {
   "cell_type": "markdown",
   "id": "193f302a-e602-4f2b-beb1-e7d7d26ddde6",
   "metadata": {},
   "source": [
    "<b>Question 10:</b>  \n",
    "Use Merge Sort to sort a list of strings alphabetically. Example:  \n",
    "Input: [’apple’, ’orange’, ’banana’, ’grape’]  \n",
    "Output: [’apple’, ’banana’, ’grape’, ’orange’]"
   ]
  },
  {
   "cell_type": "code",
   "execution_count": null,
   "id": "d0115e69-8473-4883-ae67-7266f50d3407",
   "metadata": {},
   "outputs": [],
   "source": []
  },
  {
   "cell_type": "markdown",
   "id": "6e58a952-7df0-43af-84cf-46dfeaba2892",
   "metadata": {},
   "source": [
    "<b>Question 11:</b>  \n",
    "Without using the built-in sorted() function, write a Python program to merge two pre-sorted lists into a single sorted list using the logic of Merge Sort. Example:  \n",
    "Input: [1, 3, 5, 7] and [2, 4, 6, 8]  \n",
    "Output: [1, 2, 3, 4, 5, 6, 7, 8]"
   ]
  },
  {
   "cell_type": "code",
   "execution_count": null,
   "id": "4eb7dec4-3372-4126-b9ac-a2fd924adebc",
   "metadata": {},
   "outputs": [],
   "source": []
  }
 ],
 "metadata": {
  "kernelspec": {
   "display_name": "Python 3 (ipykernel)",
   "language": "python",
   "name": "python3"
  },
  "language_info": {
   "codemirror_mode": {
    "name": "ipython",
    "version": 3
   },
   "file_extension": ".py",
   "mimetype": "text/x-python",
   "name": "python",
   "nbconvert_exporter": "python",
   "pygments_lexer": "ipython3",
   "version": "3.12.1"
  }
 },
 "nbformat": 4,
 "nbformat_minor": 5
}
