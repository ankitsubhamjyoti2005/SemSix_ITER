{
 "cells": [
  {
   "cell_type": "code",
   "execution_count": 21,
   "metadata": {},
   "outputs": [],
   "source": [
    "import random\n",
    "from enum import Enum"
   ]
  },
  {
   "cell_type": "code",
   "execution_count": 22,
   "metadata": {},
   "outputs": [],
   "source": [
    "class Suit(Enum):\n",
    "    HEARTS = \"Hearts\"\n",
    "    DIAMONDS = \"Diamonds\"\n",
    "    CLUBS = \"Clubs\"\n",
    "    SPADES = \"Spades\"\n",
    "\n",
    "class Card:\n",
    "    def __init__(self, suit: Suit, rank: str):\n",
    "        self.suit = suit\n",
    "        self.rank = rank\n",
    "\n",
    "    def __repr__(self):\n",
    "        return f\"Card({self.suit.value}, {self.rank})\"\n",
    "\n",
    "    def value(self):\n",
    "        \"\"\"Returns the Blackjack value of the card\"\"\"\n",
    "        if self.rank in [\"Jack\", \"Queen\", \"King\"]:\n",
    "            return 10\n",
    "        elif self.rank == \"Ace\":\n",
    "            return 11  # Ace can be 1 or 11, but we handle it dynamically in hand evaluation\n",
    "        else:\n",
    "            return int(self.rank)\n"
   ]
  },
  {
   "cell_type": "code",
   "execution_count": 23,
   "metadata": {},
   "outputs": [
    {
     "name": "stdout",
     "output_type": "stream",
     "text": [
      "[Card(Spades, King), Card(Clubs, 9), Card(Diamonds, 9), Card(Diamonds, 7), Card(Diamonds, 4)]\n"
     ]
    }
   ],
   "source": [
    "class Deck:\n",
    "    def __init__(self):\n",
    "        ranks = [\"Ace\", \"2\", \"3\", \"4\", \"5\", \"6\", \"7\", \"8\", \"9\", \"10\", \"Jack\", \"Queen\", \"King\"]\n",
    "        self.cards = [Card(suit, rank) for suit in Suit for rank in ranks]\n",
    "        self.shuffle()\n",
    "\n",
    "    def shuffle(self):\n",
    "        random.shuffle(self.cards)\n",
    "\n",
    "    def draw_card(self):\n",
    "        return self.cards.pop() if self.cards else None  # Returns None if the deck is empty\n",
    "\n",
    "# Test deck creation\n",
    "deck = Deck()\n",
    "print(deck.cards[:5])  # Print first five cards to verify shuffling\n"
   ]
  },
  {
   "cell_type": "code",
   "execution_count": 24,
   "metadata": {},
   "outputs": [
    {
     "name": "stdout",
     "output_type": "stream",
     "text": [
      "Hand: [Card(Hearts, Ace), Card(Spades, King)] (Total: 21)\n"
     ]
    }
   ],
   "source": [
    "class Hand:\n",
    "    def __init__(self):\n",
    "        self.cards = []\n",
    "\n",
    "    def add_card(self, card):\n",
    "        self.cards.append(card)\n",
    "\n",
    "    def total_value(self):\n",
    "        \"\"\"Calculates the total hand value, treating Aces as 1 or 11 dynamically\"\"\"\n",
    "        total = sum(card.value() for card in self.cards)\n",
    "        ace_count = sum(1 for card in self.cards if card.rank == \"Ace\")\n",
    "\n",
    "        while total > 21 and ace_count:\n",
    "            total -= 10  # Convert an Ace from 11 to 1\n",
    "            ace_count -= 1\n",
    "\n",
    "        return total\n",
    "\n",
    "    def __repr__(self):\n",
    "        return f\"Hand: {self.cards} (Total: {self.total_value()})\"\n",
    "\n",
    "# Test hand\n",
    "hand = Hand()\n",
    "hand.add_card(Card(Suit.HEARTS, \"Ace\"))\n",
    "hand.add_card(Card(Suit.SPADES, \"King\"))\n",
    "print(hand)  # Expected output: Ace and King (Total: 21)\n"
   ]
  },
  {
   "cell_type": "code",
   "execution_count": 25,
   "metadata": {},
   "outputs": [],
   "source": [
    "class Player:\n",
    "    def __init__(self, name):\n",
    "        self.name = name\n",
    "        self.hand = Hand()\n",
    "\n",
    "    def hit(self, deck):\n",
    "        card = deck.draw_card()\n",
    "        if card:\n",
    "            self.hand.add_card(card)\n",
    "        return card\n",
    "\n",
    "    def is_bust(self):\n",
    "        return self.hand.total_value() > 21\n",
    "\n",
    "    def __repr__(self):\n",
    "        return f\"{self.name}: {self.hand}\"\n",
    "\n",
    "class Dealer(Player):\n",
    "    def __init__(self):\n",
    "        super().__init__(\"Dealer\")\n",
    "\n",
    "    def should_hit(self):\n",
    "        return self.hand.total_value() < 17  # Dealer's rule: hit on 16 or less\n"
   ]
  },
  {
   "cell_type": "code",
   "execution_count": 26,
   "metadata": {},
   "outputs": [
    {
     "name": "stdout",
     "output_type": "stream",
     "text": [
      "\n",
      "Alice: Hand: [Card(Diamonds, King), Card(Diamonds, 6)] (Total: 16)\n"
     ]
    },
    {
     "name": "stdout",
     "output_type": "stream",
     "text": [
      "Alice, do you want to 'hit' or 'stand'?  hit\n"
     ]
    },
    {
     "name": "stdout",
     "output_type": "stream",
     "text": [
      "Alice busts!\n",
      "\n",
      "Bob: Hand: [Card(Spades, 10), Card(Clubs, 6)] (Total: 16)\n"
     ]
    },
    {
     "name": "stdout",
     "output_type": "stream",
     "text": [
      "Bob, do you want to 'hit' or 'stand'?  stand\n"
     ]
    },
    {
     "name": "stdout",
     "output_type": "stream",
     "text": [
      "\n",
      "Final Dealer Hand: Dealer: Hand: [Card(Diamonds, 8), Card(Spades, 4), Card(Hearts, 5)] (Total: 17)\n",
      "Alice loses (busted).\n",
      "Bob loses.\n"
     ]
    }
   ],
   "source": [
    "class BlackjackGame:\n",
    "    def __init__(self, player_names):\n",
    "        self.deck = Deck()\n",
    "        self.players = [Player(name) for name in player_names]\n",
    "        self.dealer = Dealer()\n",
    "        self.initialize_game()\n",
    "\n",
    "    def initialize_game(self):\n",
    "        \"\"\"Deals two initial cards to each player and the dealer.\"\"\"\n",
    "        for _ in range(2):\n",
    "            for player in self.players:\n",
    "                player.hit(self.deck)\n",
    "            self.dealer.hit(self.deck)\n",
    "\n",
    "    def player_turn(self, player):\n",
    "        \"\"\"Handles player actions: hit or stand.\"\"\"\n",
    "        while True:\n",
    "            print(f\"\\n{player}\")\n",
    "            action = input(f\"{player.name}, do you want to 'hit' or 'stand'? \").strip().lower()\n",
    "            if action == \"hit\":\n",
    "                player.hit(self.deck)\n",
    "                if player.is_bust():\n",
    "                    print(f\"{player.name} busts!\")\n",
    "                    break\n",
    "            elif action == \"stand\":\n",
    "                break\n",
    "\n",
    "    def dealer_turn(self):\n",
    "        \"\"\"Dealer automatically plays based on rules.\"\"\"\n",
    "        while self.dealer.should_hit():\n",
    "            self.dealer.hit(self.deck)\n",
    "\n",
    "    def determine_winners(self):\n",
    "        \"\"\"Determines the winners based on game rules.\"\"\"\n",
    "        dealer_total = self.dealer.hand.total_value()\n",
    "        print(f\"\\nFinal Dealer Hand: {self.dealer}\")\n",
    "\n",
    "        for player in self.players:\n",
    "            player_total = player.hand.total_value()\n",
    "            if player.is_bust():\n",
    "                print(f\"{player.name} loses (busted).\")\n",
    "            elif dealer_total > 21 or player_total > dealer_total:\n",
    "                print(f\"{player.name} wins!\")\n",
    "            elif player_total == dealer_total:\n",
    "                print(f\"{player.name} ties with the dealer.\")\n",
    "            else:\n",
    "                print(f\"{player.name} loses.\")\n",
    "\n",
    "    def play(self):\n",
    "        \"\"\"Runs the full game loop.\"\"\"\n",
    "        for player in self.players:\n",
    "            self.player_turn(player)\n",
    "\n",
    "        self.dealer_turn()\n",
    "        self.determine_winners()\n",
    "\n",
    "# Test game with two players\n",
    "game = BlackjackGame([\"Alice\", \"Bob\"])\n",
    "game.play()\n"
   ]
  },
  {
   "cell_type": "code",
   "execution_count": 27,
   "metadata": {},
   "outputs": [
    {
     "name": "stdout",
     "output_type": "stream",
     "text": [
      "Enter the number of players:  3\n",
      "Enter name for player 1:  A\n",
      "Enter name for player 2:  B\n",
      "Enter name for player 3:  C\n"
     ]
    },
    {
     "name": "stdout",
     "output_type": "stream",
     "text": [
      "\n",
      "A: Hand: [Card(Spades, 2), Card(Clubs, Ace)] (Total: 13)\n"
     ]
    },
    {
     "name": "stdout",
     "output_type": "stream",
     "text": [
      "A, do you want to 'hit' or 'stand'?  hit\n"
     ]
    },
    {
     "name": "stdout",
     "output_type": "stream",
     "text": [
      "\n",
      "A: Hand: [Card(Spades, 2), Card(Clubs, Ace), Card(Clubs, Jack)] (Total: 13)\n"
     ]
    },
    {
     "name": "stdout",
     "output_type": "stream",
     "text": [
      "A, do you want to 'hit' or 'stand'?  hit\n"
     ]
    },
    {
     "name": "stdout",
     "output_type": "stream",
     "text": [
      "A busts!\n",
      "\n",
      "B: Hand: [Card(Spades, 3), Card(Clubs, 6)] (Total: 9)\n"
     ]
    },
    {
     "name": "stdout",
     "output_type": "stream",
     "text": [
      "B, do you want to 'hit' or 'stand'?  hit\n"
     ]
    },
    {
     "name": "stdout",
     "output_type": "stream",
     "text": [
      "\n",
      "B: Hand: [Card(Spades, 3), Card(Clubs, 6), Card(Hearts, King)] (Total: 19)\n"
     ]
    },
    {
     "name": "stdout",
     "output_type": "stream",
     "text": [
      "B, do you want to 'hit' or 'stand'?  hit\n"
     ]
    },
    {
     "name": "stdout",
     "output_type": "stream",
     "text": [
      "B busts!\n",
      "\n",
      "C: Hand: [Card(Clubs, 8), Card(Diamonds, 4)] (Total: 12)\n"
     ]
    },
    {
     "name": "stdout",
     "output_type": "stream",
     "text": [
      "C, do you want to 'hit' or 'stand'?  hit\n"
     ]
    },
    {
     "name": "stdout",
     "output_type": "stream",
     "text": [
      "C busts!\n",
      "\n",
      "Final Dealer Hand: Dealer: Hand: [Card(Diamonds, Ace), Card(Hearts, Jack)] (Total: 21)\n",
      "A loses (busted).\n",
      "B loses (busted).\n",
      "C loses (busted).\n"
     ]
    }
   ],
   "source": [
    "def start_multiplayer_blackjack():\n",
    "    player_count = int(input(\"Enter the number of players: \"))\n",
    "    player_names = [input(f\"Enter name for player {i+1}: \") for i in range(player_count)]\n",
    "\n",
    "    game = BlackjackGame(player_names)\n",
    "    game.play()\n",
    "\n",
    "# Start a multiplayer game\n",
    "start_multiplayer_blackjack()\n"
   ]
  }
 ],
 "metadata": {
  "kernelspec": {
   "display_name": "Python 3 (ipykernel)",
   "language": "python",
   "name": "python3"
  },
  "language_info": {
   "codemirror_mode": {
    "name": "ipython",
    "version": 3
   },
   "file_extension": ".py",
   "mimetype": "text/x-python",
   "name": "python",
   "nbconvert_exporter": "python",
   "pygments_lexer": "ipython3",
   "version": "3.12.1"
  }
 },
 "nbformat": 4,
 "nbformat_minor": 4
}
