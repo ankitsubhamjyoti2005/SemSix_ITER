{
 "cells": [
  {
   "cell_type": "markdown",
   "id": "81416114",
   "metadata": {},
   "source": [
    "# Playfair Cipher"
   ]
  },
  {
   "cell_type": "code",
   "execution_count": 13,
   "id": "d2a74a5b",
   "metadata": {},
   "outputs": [],
   "source": [
    "import numpy as np"
   ]
  },
  {
   "cell_type": "code",
   "execution_count": 3,
   "id": "cdc4be75",
   "metadata": {},
   "outputs": [],
   "source": [
    "def removeSpaces(text):\n",
    "    newText = \"\"\n",
    "    for i in text:\n",
    "        if i == \" \":\n",
    "            continue\n",
    "        else:\n",
    "            newText = newText + i\n",
    "    return newText"
   ]
  },
  {
   "cell_type": "code",
   "execution_count": 14,
   "id": "8f2efc97",
   "metadata": {},
   "outputs": [],
   "source": [
    "# Generating Secret Key:\n",
    "\n",
    "def keyMAT(key):\n",
    "    \n",
    "    key = key.upper()\n",
    "    \n",
    "    print(key)\n",
    "    \n",
    "    key = removeSpaces(key)\n",
    "    \n",
    "    print(key)\n",
    "    \n",
    "    secret = []\n",
    "    \n",
    "    for i in key:\n",
    "        if i in secret:\n",
    "            continue\n",
    "        else:\n",
    "            secret.append(i)\n",
    "   \n",
    "    \n",
    "    for i in \"ABCDEFGHIKLMNOPQRSTUVWXYZ\":\n",
    "        if i in secret:\n",
    "            continue\n",
    "        else:\n",
    "            secret.append(i)\n",
    "    \n",
    "    array_1d = np.array(secret)\n",
    "    secret = array_1d.reshape(5, 5)\n",
    "    \n",
    "    return secret"
   ]
  },
  {
   "cell_type": "code",
   "execution_count": 15,
   "id": "d077b2bd",
   "metadata": {},
   "outputs": [
    {
     "name": "stdout",
     "output_type": "stream",
     "text": [
      "M ONARCHY\n",
      "MONARCHY\n"
     ]
    },
    {
     "data": {
      "text/plain": [
       "array([['M', 'O', 'N', 'A', 'R'],\n",
       "       ['C', 'H', 'Y', 'B', 'D'],\n",
       "       ['E', 'F', 'G', 'I', 'K'],\n",
       "       ['L', 'P', 'Q', 'S', 'T'],\n",
       "       ['U', 'V', 'W', 'X', 'Z']], dtype='<U1')"
      ]
     },
     "execution_count": 15,
     "metadata": {},
     "output_type": "execute_result"
    }
   ],
   "source": [
    "key = \"m onarchy\"\n",
    "keyMAT(key)"
   ]
  },
  {
   "cell_type": "code",
   "execution_count": 28,
   "id": "5a82d1a7",
   "metadata": {},
   "outputs": [],
   "source": [
    "def Diagraph(text):\n",
    "    text.upper()\n",
    "    text = removeSpaces(text)\n",
    "    Diagraph = []\n",
    "    group = 0\n",
    "    for i in range(2, len(text), 2):\n",
    "        Diagraph.append(text[group:i])\n",
    "\n",
    "        group = i\n",
    "    Diagraph.append(text[group:])\n",
    "    return Diagraph"
   ]
  },
  {
   "cell_type": "code",
   "execution_count": 30,
   "id": "0fff6cb6",
   "metadata": {},
   "outputs": [
    {
     "data": {
      "text/plain": [
       "['ba', 'll', 'oo', 'n']"
      ]
     },
     "execution_count": 30,
     "metadata": {},
     "output_type": "execute_result"
    }
   ],
   "source": [
    "pt = \"balloon\"\n",
    "Diagraph(pt)"
   ]
  },
  {
   "cell_type": "code",
   "execution_count": 8,
   "id": "204f3175",
   "metadata": {},
   "outputs": [
    {
     "name": "stdout",
     "output_type": "stream",
     "text": [
      "GAFVEKAY\n",
      "HELLOE\n"
     ]
    }
   ],
   "source": [
    "def create_playfair_square(phrase):\n",
    "    \"\"\"\n",
    "    Generate the Playfair square for the given phrase.\n",
    "    \"\"\"\n",
    "    # Replace 'J' with 'I' in the phrase, convert to uppercase, and append the alphabet\n",
    "    key = phrase.replace('J', 'I').upper() + 'ABCDEFGHIKLMNOPQRSTUVWXYZ'\n",
    "    key = \"\".join(dict.fromkeys(key))  # Remove duplicate letters while preserving order\n",
    "    grid = [[key[i + j] for j in range(5)] for i in range(0, 25, 5)]\n",
    "    return grid\n",
    "\n",
    "\n",
    "\n",
    "def find_location(grid, char):\n",
    "    \"\"\"\n",
    "    Helper function to get the row and column of the given char.\n",
    "    \"\"\"\n",
    "    for i in range(0, 5):\n",
    "        for j in range(0, 5):\n",
    "            if grid[i][j] == char:\n",
    "                return i, j\n",
    "\n",
    "\n",
    "def playfair_encrypt(message: str, key: str) -> str:\n",
    "    \"\"\"\n",
    "    Encrypt a message using the Playfair cipher.\n",
    "    \"\"\"\n",
    "    playfair_square = create_playfair_square(key)\n",
    "    ciphertext = ''\n",
    "\n",
    "    # Remove non-alphabetic characters\n",
    "    message = \"\".join(filter(str.isalpha, message))\n",
    "\n",
    "    # Handle repeating letters by inserting 'X' between them\n",
    "    i = 0\n",
    "    while i < len(message) - 1:\n",
    "        if message[i] == message[i+1]:\n",
    "            message = message[:i+1] + 'X' + message[i+1:]\n",
    "        i += 1\n",
    "    \n",
    "    # Append 'Z' if the last block only contain a single character\n",
    "    if len(message) % 2 == 1:\n",
    "        message += 'Z'\n",
    "\n",
    "    # For each digraphs, substitute the characters using the grid\n",
    "    for i in range(0, len(message), 2):\n",
    "        digraph = message[i:i+2]\n",
    "        row1, col1 = find_location(playfair_square, digraph[0])\n",
    "        row2, col2 = find_location(playfair_square, digraph[1])\n",
    "        if row1 == row2:\n",
    "            sub1 = playfair_square[row1][(col1 + 1) % 5]\n",
    "            sub2 = playfair_square[row2][(col2 + 1 ) % 5]\n",
    "        elif col1 == col2:\n",
    "            sub1 = playfair_square[(row1 + 1) % 5][col1]\n",
    "            sub2 = playfair_square[(row2 + 1) % 5][col2]\n",
    "        else:\n",
    "            sub1 = playfair_square[row1][col2]\n",
    "            sub2 = playfair_square[row2][col1]\n",
    "        \n",
    "        ciphertext += sub1 + sub2\n",
    "\n",
    "    return ciphertext\n",
    "\n",
    "\n",
    "def playfair_decrypt(ciphertext: str, key: str) -> str:\n",
    "    \"\"\"\n",
    "    Decrypt a message using the Playfair cipher.\n",
    "    \"\"\"\n",
    "    playfair_square = create_playfair_square(key)\n",
    "    message = ''\n",
    "\n",
    "    # For each digraphs, substitute the characters using the grid\n",
    "    for i in range(0, len(ciphertext), 2):\n",
    "        digraph = ciphertext[i:i+2]\n",
    "        row1, col1 = find_location(playfair_square, digraph[0])\n",
    "        row2, col2 = find_location(playfair_square, digraph[1])\n",
    "        if row1 == row2:\n",
    "            sub1 = playfair_square[row1][(col1 - 1) % 5]\n",
    "            sub2 = playfair_square[row2][(col2 - 1 ) % 5]\n",
    "        elif col1 == col2:\n",
    "            sub1 = playfair_square[(row1 - 1) % 5][col1]\n",
    "            sub2 = playfair_square[(row2 - 1) % 5][col2]\n",
    "        else:\n",
    "            sub1 = playfair_square[row1][col2]\n",
    "            sub2 = playfair_square[row2][col1]\n",
    "        \n",
    "        message += sub1 + sub2\n",
    "\n",
    "    # Remove the 'X' between two similar letters\n",
    "    i = 0\n",
    "    while i < len(message) - 2:\n",
    "        if message[i] == message[i+2] and message[i+1] == 'X':\n",
    "            message = message[:i+1] + message[i+2:]\n",
    "        i += 1\n",
    "\n",
    "    # Remove the last 'Z'\n",
    "    if message[-1] == 'Z':\n",
    "        message = message[:-1]\n",
    "\n",
    "    return message\n",
    "\n",
    "\n",
    "# Usage example\n",
    "keyword = 'LIFEI'\n",
    "message = 'HELLOE'\n",
    "\n",
    "encrypted = playfair_encrypt(message, keyword)\n",
    "print(encrypted)\n",
    "\n",
    "decrypted = playfair_decrypt(encrypted, keyword)\n",
    "print(decrypted)"
   ]
  },
  {
   "cell_type": "code",
   "execution_count": null,
   "id": "71d1e6df",
   "metadata": {},
   "outputs": [],
   "source": []
  }
 ],
 "metadata": {
  "kernelspec": {
   "display_name": "Python 3 (ipykernel)",
   "language": "python",
   "name": "python3"
  },
  "language_info": {
   "codemirror_mode": {
    "name": "ipython",
    "version": 3
   },
   "file_extension": ".py",
   "mimetype": "text/x-python",
   "name": "python",
   "nbconvert_exporter": "python",
   "pygments_lexer": "ipython3",
   "version": "3.11.4"
  }
 },
 "nbformat": 4,
 "nbformat_minor": 5
}
