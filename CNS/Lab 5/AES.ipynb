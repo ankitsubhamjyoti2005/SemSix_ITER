{
 "cells": [
  {
   "cell_type": "markdown",
   "id": "f4a87c79",
   "metadata": {},
   "source": [
    "# Advanced Encryption Algorithm / Standard"
   ]
  },
  {
   "cell_type": "markdown",
   "id": "be7db621",
   "metadata": {},
   "source": [
    "> https://github.com/bozhu/AES-Python/blob/master/aes.py\n",
    "    \n",
    "> https://github.com/boppreh/aes/blob/master/aes.py\n",
    "    \n",
    "> https://github.com/rafael2903/AES-128-cipher/blob/main/AES.py"
   ]
  },
  {
   "cell_type": "code",
   "execution_count": null,
   "id": "d9da70d6",
   "metadata": {},
   "outputs": [],
   "source": []
  }
 ],
 "metadata": {
  "kernelspec": {
   "display_name": "Python 3 (ipykernel)",
   "language": "python",
   "name": "python3"
  },
  "language_info": {
   "codemirror_mode": {
    "name": "ipython",
    "version": 3
   },
   "file_extension": ".py",
   "mimetype": "text/x-python",
   "name": "python",
   "nbconvert_exporter": "python",
   "pygments_lexer": "ipython3",
   "version": "3.11.4"
  }
 },
 "nbformat": 4,
 "nbformat_minor": 5
}
