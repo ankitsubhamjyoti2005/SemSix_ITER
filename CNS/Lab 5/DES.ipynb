{
 "cells": [
  {
   "cell_type": "code",
   "execution_count": 25,
   "id": "6f9fa3a8-8dd0-4c88-b7e9-7222f2b513ff",
   "metadata": {},
   "outputs": [],
   "source": [
    "# Hexadecimal to binary conversion\n",
    "\n",
    "def hex2bin(s):\n",
    "    bini = bin(int(s, 16))[2:]\n",
    "    return bini.zfill(64)\n"
   ]
  },
  {
   "cell_type": "code",
   "execution_count": 45,
   "id": "c55b97c8-f816-4eca-8a53-1788f9a8a44a",
   "metadata": {},
   "outputs": [],
   "source": [
    "def bin3hex(b):\n",
    "    hexi = hex(int(b, 2))[2:]\n",
    "    #hexi = hexi.zfill(16)\n",
    "    return hexi.zfill(16).upper()\n"
   ]
  },
  {
   "cell_type": "code",
   "execution_count": 3,
   "id": "ab383f88-7169-400c-b1b7-be6a33380336",
   "metadata": {},
   "outputs": [],
   "source": [
    "# Permute function to rearrange the bits \n",
    " \n",
    "def permute(k, arr, n):\n",
    "    permutation = \"\"\n",
    "    for i in range(0, n):\n",
    "        permutation = permutation + k[arr[i] - 1]\n",
    "    return permutation"
   ]
  },
  {
   "cell_type": "code",
   "execution_count": 5,
   "id": "20acfdf4-961f-42b4-81d9-6a6af381e61d",
   "metadata": {},
   "outputs": [],
   "source": [
    "# shifting the bits towards left by nth shifts\n",
    "\n",
    "def shift_left(k, nth_shifts):\n",
    "    s = \"\"\n",
    "    for i in range(nth_shifts):\n",
    "        for j in range(1, len(k)):\n",
    "            s = s + k[j]\n",
    "        s = s + k[0]\n",
    "        k = s\n",
    "        s = \"\"\n",
    "    return k"
   ]
  },
  {
   "cell_type": "code",
   "execution_count": 73,
   "id": "61ccedf0-4052-47d5-8755-7723dbfb21e3",
   "metadata": {},
   "outputs": [],
   "source": [
    "# Key generation\n",
    "\n",
    "def genKey(key):\n",
    "    # --hex to binary\n",
    "    key = hex2bin(key)\n",
    "    print(key)\n",
    "     \n",
    "    # --parity bit drop table\n",
    "    keyp = [57, 49, 41, 33, 25, 17, 9,\n",
    "            1, 58, 50, 42, 34, 26, 18,\n",
    "            10, 2, 59, 51, 43, 35, 27,\n",
    "            19, 11, 3, 60, 52, 44, 36,\n",
    "            63, 55, 47, 39, 31, 23, 15,\n",
    "            7, 62, 54, 46, 38, 30, 22,\n",
    "            14, 6, 61, 53, 45, 37, 29,\n",
    "            21, 13, 5, 28, 20, 12, 4]\n",
    "     \n",
    "    # getting 56 bit key from 64 bit using the parity bits\n",
    "    key = permute(key, keyp, 56)\n",
    "\n",
    "    print(key)\n",
    "     \n",
    "    # Number of bit shifts\n",
    "    shift_table = [1, 1, 2, 2,\n",
    "                   2, 2, 2, 2,\n",
    "                   1, 2, 2, 2,\n",
    "                   2, 2, 2, 1]\n",
    "     \n",
    "    # Key- Compression Table : Compression of key from 56 bits to 48 bits\n",
    "    key_comp = [14, 17, 11, 24, 1, 5,\n",
    "                3, 28, 15, 6, 21, 10,\n",
    "                23, 19, 12, 4, 26, 8,\n",
    "                16, 7, 27, 20, 13, 2,\n",
    "                41, 52, 31, 37, 47, 55,\n",
    "                30, 40, 51, 45, 33, 48,\n",
    "                44, 49, 39, 56, 34, 53,\n",
    "                46, 42, 50, 36, 29, 32]\n",
    "     \n",
    "    # Splitting\n",
    "    left = key[0:28]    # rkb for RoundKeys in binary\n",
    "    right = key[28:56]  # rk for RoundKeys in hexadecimal\n",
    "     \n",
    "    rkb = []\n",
    "    rk = []\n",
    "    for i in range(0, 16):\n",
    "        # Shifting the bits by nth shifts by checking from shift table\n",
    "        left = shift_left(left, shift_table[i])\n",
    "        right = shift_left(right, shift_table[i])\n",
    "     \n",
    "        # Combination of left and right string\n",
    "        combine_str = left + right\n",
    "     \n",
    "        # Compression of key from 56 to 48 bits\n",
    "        round_key = permute(combine_str, key_comp, 48)\n",
    "     \n",
    "        rkb.append(round_key)\n",
    "        rk.append(bin2hex(round_key))\n",
    "\n",
    "    return rkb, rk"
   ]
  },
  {
   "cell_type": "code",
   "execution_count": 75,
   "id": "de3259f9-ad08-41ba-bcae-e2f0d46ddd11",
   "metadata": {},
   "outputs": [
    {
     "name": "stdout",
     "output_type": "stream",
     "text": [
      "1010101010111011000010010001100000100111001101101100110011011101\n",
      "11000011110000000011001110100011001111110000110011111010\n"
     ]
    }
   ],
   "source": [
    "pt = \"123456ABCD132536\"\n",
    "key = \"AABB09182736CCDD\"\n",
    "rkb, rk = genKey(key)"
   ]
  },
  {
   "cell_type": "code",
   "execution_count": null,
   "id": "c2e66183-2124-403f-b4ab-9544d80bb4b7",
   "metadata": {},
   "outputs": [],
   "source": [
    "rkb"
   ]
  },
  {
   "cell_type": "code",
   "execution_count": null,
   "id": "10df7ed3-d736-4434-844c-79ad9f14e582",
   "metadata": {},
   "outputs": [],
   "source": [
    "rk"
   ]
  },
  {
   "cell_type": "code",
   "execution_count": 67,
   "id": "5c98190a-7194-4b36-a05a-f8964a4cea30",
   "metadata": {},
   "outputs": [
    {
     "ename": "ValueError",
     "evalue": "list.remove(x): x not in list",
     "output_type": "error",
     "traceback": [
      "\u001b[1;31m---------------------------------------------------------------------------\u001b[0m",
      "\u001b[1;31mValueError\u001b[0m                                Traceback (most recent call last)",
      "Cell \u001b[1;32mIn[67], line 1\u001b[0m\n\u001b[1;32m----> 1\u001b[0m KEY \u001b[38;5;241m=\u001b[39m \u001b[38;5;124m\"\u001b[39m\u001b[38;5;124m\"\u001b[39m\u001b[38;5;241m.\u001b[39mjoin(key\u001b[38;5;241m.\u001b[39msplit()\u001b[38;5;241m.\u001b[39mremove(\u001b[38;5;124m'\u001b[39m\u001b[38;5;124mA\u001b[39m\u001b[38;5;124m'\u001b[39m))\n\u001b[0;32m      2\u001b[0m KEY\n",
      "\u001b[1;31mValueError\u001b[0m: list.remove(x): x not in list"
     ]
    }
   ],
   "source": [
    "KEY = \"\".join(key.split().remove('A'))\n",
    "KEY"
   ]
  },
  {
   "cell_type": "code",
   "execution_count": null,
   "id": "8a1b564b-680a-47dd-a5d8-8b988ed18bab",
   "metadata": {},
   "outputs": [],
   "source": []
  }
 ],
 "metadata": {
  "kernelspec": {
   "display_name": "Python 3 (ipykernel)",
   "language": "python",
   "name": "python3"
  },
  "language_info": {
   "codemirror_mode": {
    "name": "ipython",
    "version": 3
   },
   "file_extension": ".py",
   "mimetype": "text/x-python",
   "name": "python",
   "nbconvert_exporter": "python",
   "pygments_lexer": "ipython3",
   "version": "3.12.4"
  }
 },
 "nbformat": 4,
 "nbformat_minor": 5
}
