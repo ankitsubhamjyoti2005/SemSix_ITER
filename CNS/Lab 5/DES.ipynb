{
 "cells": [
  {
   "cell_type": "code",
   "execution_count": 1,
   "id": "6f9fa3a8-8dd0-4c88-b7e9-7222f2b513ff",
   "metadata": {},
   "outputs": [],
   "source": [
    "def hex2bin(s):\n",
    "    return bin(int(s, 16))[2:].zfill(64)"
   ]
  },
  {
   "cell_type": "code",
   "execution_count": 2,
   "id": "c55b97c8-f816-4eca-8a53-1788f9a8a44a",
   "metadata": {},
   "outputs": [],
   "source": [
    "def bin2hex(b):\n",
    "    return hex(int(b, 2))[2:].zfill(16).upper()"
   ]
  },
  {
   "cell_type": "code",
   "execution_count": 3,
   "id": "ab383f88-7169-400c-b1b7-be6a33380336",
   "metadata": {},
   "outputs": [],
   "source": [
    "# Permute function to rearrange the bits \n",
    "def permute(k, arr, n):\n",
    "    permutation = \"\"\n",
    "    for i in range(0, n):\n",
    "        permutation = permutation + k[arr[i] - 1]\n",
    "    return permutation"
   ]
  },
  {
   "cell_type": "code",
   "execution_count": 4,
   "id": "20acfdf4-961f-42b4-81d9-6a6af381e61d",
   "metadata": {},
   "outputs": [],
   "source": [
    "# shifting the bits towards left by nth shifts\n",
    "def shift_left(k, nth_shifts):\n",
    "    s = \"\"\n",
    "    for i in range(nth_shifts):\n",
    "        for j in range(1, len(k)):\n",
    "            s = s + k[j]\n",
    "        s = s + k[0]\n",
    "        k = s\n",
    "        s = \"\"\n",
    "    return k"
   ]
  },
  {
   "cell_type": "code",
   "execution_count": 5,
   "id": "61ccedf0-4052-47d5-8755-7723dbfb21e3",
   "metadata": {},
   "outputs": [],
   "source": [
    "# Key generation\n",
    "def genKey(key):\n",
    "    key = hex2bin(key)\n",
    "    keyp = [57, 49, 41, 33, 25, 17, 9,\n",
    "            1, 58, 50, 42, 34, 26, 18,\n",
    "            10, 2, 59, 51, 43, 35, 27,\n",
    "            19, 11, 3, 60, 52, 44, 36,\n",
    "            63, 55, 47, 39, 31, 23, 15,\n",
    "            7, 62, 54, 46, 38, 30, 22,\n",
    "            14, 6, 61, 53, 45, 37, 29,\n",
    "            21, 13, 5, 28, 20, 12, 4]\n",
    "     \n",
    "    key = permute(key, keyp, 56)\n",
    "     \n",
    "    shift_table = [1, 1, 2, 2,\n",
    "                   2, 2, 2, 2,\n",
    "                   1, 2, 2, 2,\n",
    "                   2, 2, 2, 1]\n",
    "     \n",
    "    key_comp = [14, 17, 11, 24, 1, 5,\n",
    "                3, 28, 15, 6, 21, 10,\n",
    "                23, 19, 12, 4, 26, 8,\n",
    "                16, 7, 27, 20, 13, 2,\n",
    "                41, 52, 31, 37, 47, 55,\n",
    "                30, 40, 51, 45, 33, 48,\n",
    "                44, 49, 39, 56, 34, 53,\n",
    "                46, 42, 50, 36, 29, 32]\n",
    "     \n",
    "    left = key[0:28]\n",
    "    right = key[28:56]     \n",
    "    rkb = []\n",
    "    rk = []\n",
    "    \n",
    "    for i in range(0, 16):\n",
    "        left = shift_left(left, shift_table[i])\n",
    "        right = shift_left(right, shift_table[i])\n",
    "        combine_str = left + right\n",
    "        round_key = permute(combine_str, key_comp, 48)\n",
    "        rkb.append(round_key)\n",
    "        rk.append(bin2hex(round_key))\n",
    "\n",
    "    return rkb, rk"
   ]
  },
  {
   "cell_type": "code",
   "execution_count": 6,
   "id": "de3259f9-ad08-41ba-bcae-e2f0d46ddd11",
   "metadata": {},
   "outputs": [],
   "source": [
    "pt = \"123456ABCD132536\"\n",
    "key = \"AABB09182736CCDD\"\n",
    "rkb, rk = genKey(key)"
   ]
  },
  {
   "cell_type": "code",
   "execution_count": 7,
   "id": "c2e66183-2124-403f-b4ab-9544d80bb4b7",
   "metadata": {},
   "outputs": [
    {
     "data": {
      "text/plain": [
       "['000110010100110011010000011100101101111010001100',\n",
       " '010001010110100001011000000110101011110011001110',\n",
       " '000001101110110110100100101011001111010110110101',\n",
       " '110110100010110100000011001010110110111011100011',\n",
       " '011010011010011000101001111111101100100100010011',\n",
       " '110000011001010010001110100001110100011101011110',\n",
       " '011100001000101011010010110111011011001111000000',\n",
       " '001101001111100000100010111100001100011001101101',\n",
       " '100001001011101101000100011100111101110011001100',\n",
       " '000000100111011001010111000010001011010110111111',\n",
       " '011011010101010101100000101011110111110010100101',\n",
       " '110000101100000111101001011010100100101111110011',\n",
       " '100110011100001100010011100101111100100100011111',\n",
       " '001001010001101110001011110001110001011111010000',\n",
       " '001100110011000011000101110110011010001101101101',\n",
       " '000110000001110001011101011101011100011001101101']"
      ]
     },
     "execution_count": 7,
     "metadata": {},
     "output_type": "execute_result"
    }
   ],
   "source": [
    "rkb"
   ]
  },
  {
   "cell_type": "code",
   "execution_count": 8,
   "id": "10df7ed3-d736-4434-844c-79ad9f14e582",
   "metadata": {},
   "outputs": [
    {
     "data": {
      "text/plain": [
       "['0000194CD072DE8C',\n",
       " '00004568581ABCCE',\n",
       " '000006EDA4ACF5B5',\n",
       " '0000DA2D032B6EE3',\n",
       " '000069A629FEC913',\n",
       " '0000C1948E87475E',\n",
       " '0000708AD2DDB3C0',\n",
       " '000034F822F0C66D',\n",
       " '000084BB4473DCCC',\n",
       " '000002765708B5BF',\n",
       " '00006D5560AF7CA5',\n",
       " '0000C2C1E96A4BF3',\n",
       " '000099C31397C91F',\n",
       " '0000251B8BC717D0',\n",
       " '00003330C5D9A36D',\n",
       " '0000181C5D75C66D']"
      ]
     },
     "execution_count": 8,
     "metadata": {},
     "output_type": "execute_result"
    }
   ],
   "source": [
    "rk"
   ]
  },
  {
   "cell_type": "code",
   "execution_count": null,
   "id": "8a1b564b-680a-47dd-a5d8-8b988ed18bab",
   "metadata": {},
   "outputs": [],
   "source": []
  }
 ],
 "metadata": {
  "kernelspec": {
   "display_name": "Python 3 (ipykernel)",
   "language": "python",
   "name": "python3"
  },
  "language_info": {
   "codemirror_mode": {
    "name": "ipython",
    "version": 3
   },
   "file_extension": ".py",
   "mimetype": "text/x-python",
   "name": "python",
   "nbconvert_exporter": "python",
   "pygments_lexer": "ipython3",
   "version": "3.12.4"
  }
 },
 "nbformat": 4,
 "nbformat_minor": 5
}
